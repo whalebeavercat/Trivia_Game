{
  "nbformat": 4,
  "nbformat_minor": 0,
  "metadata": {
    "colab": {
      "name": "Type Speed Tester",
      "provenance": [],
      "collapsed_sections": [],
      "authorship_tag": "ABX9TyMArleLG30HVsXavSuOeWGF",
      "include_colab_link": true
    },
    "kernelspec": {
      "name": "python3",
      "display_name": "Python 3"
    }
  },
  "cells": [
    {
      "cell_type": "markdown",
      "metadata": {
        "id": "view-in-github",
        "colab_type": "text"
      },
      "source": [
        "<a href=\"https://colab.research.google.com/github/whalebeavercat/Trivia_Game/blob/master/Type_Speed_Tester.ipynb\" target=\"_parent\"><img src=\"https://colab.research.google.com/assets/colab-badge.svg\" alt=\"Open In Colab\"/></a>"
      ]
    },
    {
      "cell_type": "code",
      "metadata": {
        "id": "iYx5krDFZapd",
        "colab_type": "code",
        "colab": {}
      },
      "source": [
        "import matplotlib.pyplot as plt\n",
        "import time as t\n",
        "times = []\n",
        "mistakes = 0\n",
        "print ('This software is to improve your type speed over time and show the evolution of your type speed')\n",
        "print ('You will be writing the word \"programming\" five times')\n",
        "input ('Press enter to continue...')\n",
        "while len(times) < 5:\n",
        "  start_time = t.time()\n",
        "  word = str(input('Write the word \"programming\" as fast as possible: '))\n",
        "  end_time = t.time()\n",
        "  total_time = round(end_time - start_time, 3)\n",
        "  print ('The total time spend typing the word was: ', total_time, 'seconds')\n",
        "  times.append(total_time)\n",
        "  if word.lower() != \"programming\":\n",
        "    mistakes += 1\n",
        "\n",
        "print('Here is your typing speed evolution')\n",
        "print ('The number of mistakes you made were ', mistakes,)\n",
        "plt.plot([1,2,3,4,5], times)\n",
        "plt.xlabel (\"Trial\")\n",
        "plt.ylabel ('Time Taken to type the word')\n",
        "plt.title('Typing Speed over time')\n",
        "plt.show()\n",
        "\n",
        "\n",
        "\n",
        "\n"
      ],
      "execution_count": 0,
      "outputs": []
    }
  ]
}