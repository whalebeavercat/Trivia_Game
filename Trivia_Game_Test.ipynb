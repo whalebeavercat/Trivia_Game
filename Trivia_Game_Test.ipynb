{
  "nbformat": 4,
  "nbformat_minor": 0,
  "metadata": {
    "colab": {
      "name": "Trivia Game Test",
      "provenance": [],
      "collapsed_sections": [],
      "authorship_tag": "ABX9TyOZWjIBOxd+k1gRxOQIPII1",
      "include_colab_link": true
    },
    "kernelspec": {
      "name": "python3",
      "display_name": "Python 3"
    }
  },
  "cells": [
    {
      "cell_type": "markdown",
      "metadata": {
        "id": "view-in-github",
        "colab_type": "text"
      },
      "source": [
        "<a href=\"https://colab.research.google.com/github/whalebeavercat/Trivia_Game/blob/master/Trivia_Game_Test.ipynb\" target=\"_parent\"><img src=\"https://colab.research.google.com/assets/colab-badge.svg\" alt=\"Open In Colab\"/></a>"
      ]
    },
    {
      "cell_type": "code",
      "metadata": {
        "id": "ka8gZQ7KQiux",
        "colab_type": "code",
        "outputId": "34bd1b5e-77b0-4494-81cf-0d74f94eed8d",
        "colab": {
          "base_uri": "https://localhost:8080/",
          "height": 459
        }
      },
      "source": [
        "import requests\n",
        "import json\n",
        "import pprint\n",
        "import random\n",
        "import html\n",
        "#game test question\n",
        "print ('This is a trivia game based on computer science. Answer all the questions in the test with the right answer to earn points')\n",
        "user_points = 0\n",
        "endgame = \"\"\n",
        "url = \"https://opentdb.com/api.php?amount=5&category=18&difficulty=medium&type=multiple\"\n",
        "input('Press any key to start the game...')\n",
        "\n",
        "while endgame.lower() != \"quit\":\n",
        "  game = requests.get(url)\n",
        "  if (game.status_code != 200):\n",
        "    endgame = str(input('Sorry. The game cannot connect to the web. Please try again. Type quit to quit: '))\n",
        "  else:\n",
        "    data = json.loads(game.text)\n",
        "    question = data ['results'] [0] ['question']\n",
        "    answers = data ['results'] [0] ['incorrect_answers']\n",
        "    correct_answer = data ['results'] [0] ['correct_answer']\n",
        "    answers.append(correct_answer)\n",
        "    random.shuffle (answers)\n",
        "    answer_number = 1\n",
        "    print (\"\\n\" + html.unescape(question) + \"\\n\")\n",
        "    for answer in answers:\n",
        "      print(str(answer_number) + ' - ' +html.unescape(answer))\n",
        "      answer_number += 1\n",
        "    user_answer = input(\"\\nWhat number is the right answer of the corresponding answer: \")\n",
        "    user_answer = answers[int(user_answer)-1]\n",
        "    if user_answer == correct_answer:\n",
        "      user_points += 1\n",
        "      print ('\\nYour score now is ' + str(user_points))\n",
        "      endgame = input('Good Job! You got the right answer! If you would like to play another question type \"again\". Otherwise, type \"quit\" to exit: ')\n",
        "    else:\n",
        "      user_points -= 1\n",
        "      print ('\\nYour score now is ' + str(user_points))\n",
        "      endgame = input('Wrong Answer but OK. If you would like to play another question type \"again\". Otherwise, type \"quit\" to exit: ')\n",
        "\n",
        "    \n",
        "\n",
        "\n"
      ],
      "execution_count": 0,
      "outputs": [
        {
          "output_type": "stream",
          "text": [
            "This is a trivia game based on computer science. Answer all the questions in the test with the right answer to earn points\n",
            "Press any key to start the game...\n",
            "\n",
            "The computer OEM manufacturer Clevo, known for its Sager notebook line, is based in which country?\n",
            "\n",
            "1 - China (People's Republic of)\n",
            "2 - Germany\n",
            "3 - United States\n",
            "4 - Taiwan\n",
            "\n",
            "What number is the right answer of the corresponding answer: 2\n",
            "\n",
            "Your score now is -1\n",
            "Wrong Answer but OK. If you would like to play another question type \"again\". Otherwise, type \"quit\" to exit: \n",
            "\n",
            "In CSS, which of these values CANNOT be used with the \"position\" property?\n",
            "\n",
            "1 - relative\n",
            "2 - static\n",
            "3 - center\n",
            "4 - absolute\n",
            "\n",
            "What number is the right answer of the corresponding answer: 1\n",
            "\n",
            "Your score now is -2\n",
            "Wrong Answer but OK. If you would like to play another question type \"again\". Otherwise, type \"quit\" to exit: quit\n"
          ],
          "name": "stdout"
        }
      ]
    }
  ]
}